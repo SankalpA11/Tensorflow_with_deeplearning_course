{
  "nbformat": 4,
  "nbformat_minor": 0,
  "metadata": {
    "colab": {
      "name": "Copy of Exercise 1 - House Prices - Question.ipynb",
      "version": "0.3.2",
      "provenance": [],
      "collapsed_sections": [],
      "include_colab_link": true
    },
    "kernelspec": {
      "name": "python3",
      "display_name": "Python 3"
    }
  },
  "cells": [
    {
      "cell_type": "markdown",
      "metadata": {
        "id": "view-in-github",
        "colab_type": "text"
      },
      "source": [
        "<a href=\"https://colab.research.google.com/github/SankalpA11/Tensorflow_with_deeplearning_course/blob/master/Copy_of_Exercise_1_House_Prices_Question.ipynb\" target=\"_parent\"><img src=\"https://colab.research.google.com/assets/colab-badge.svg\" alt=\"Open In Colab\"/></a>"
      ]
    },
    {
      "metadata": {
        "id": "mw2VBrBcgvGa",
        "colab_type": "text"
      },
      "cell_type": "markdown",
      "source": [
        "In this exercise you'll try to build a neural network that predicts the price of a house according to a simple formula.\n",
        "\n",
        "So, imagine if house pricing was as easy as a house costs 50k + 50k per bedroom, so that a 1 bedroom house costs 100k, a 2 bedroom house costs 150k etc.\n",
        "\n",
        "How would you create a neural network that learns this relationship so that it would predict a 7 bedroom house as costing close to 400k etc.\n",
        "\n",
        "Hint: Your network might work better if you scale the house price down. You don't have to give the answer 400...it might be better to create something that predicts the number 4, and then your answer is in the 'hundreds of thousands' etc."
      ]
    },
    {
      "metadata": {
        "id": "G0gsfYUmFLZ0",
        "colab_type": "text"
      },
      "cell_type": "markdown",
      "source": [
        "# Import the Dependencies"
      ]
    },
    {
      "metadata": {
        "id": "lWZbJCl8FUdT",
        "colab_type": "text"
      },
      "cell_type": "markdown",
      "source": [
        "This is importing the dependencies"
      ]
    },
    {
      "metadata": {
        "id": "Et1JWL97FKUh",
        "colab_type": "code",
        "colab": {}
      },
      "cell_type": "code",
      "source": [
        "import tensorflow as tf\n",
        "import numpy as np\n",
        "from tensorflow import keras"
      ],
      "execution_count": 0,
      "outputs": []
    },
    {
      "metadata": {
        "id": "TDbUnJycFZnD",
        "colab_type": "text"
      },
      "cell_type": "markdown",
      "source": [
        "Creating a model of one layer of neural network, containing one neuron\n",
        "\n",
        "*This is a perceptron model*"
      ]
    },
    {
      "metadata": {
        "id": "PUNO2E6SeURH",
        "colab_type": "code",
        "colab": {}
      },
      "cell_type": "code",
      "source": [
        "model = tf.keras.Sequential([keras.layers.Dense(units=1, input_shape=[1])])\n",
        "model.compile(optimizer='sgd', loss='mean_squared_error')"
      ],
      "execution_count": 0,
      "outputs": []
    },
    {
      "metadata": {
        "id": "4AKgX7liGSMT",
        "colab_type": "text"
      },
      "cell_type": "markdown",
      "source": [
        "Data Input"
      ]
    },
    {
      "metadata": {
        "id": "WpEAAEJrGM6s",
        "colab_type": "code",
        "colab": {}
      },
      "cell_type": "code",
      "source": [
        "xs = np.array([1.0, 2.0, 4.0, 7.0, 8.0, 11.0], dtype=float)\n",
        "ys = np.array([1.0,  1.5, 2.5, 4.0, 4.5, 6.0], dtype=float)"
      ],
      "execution_count": 0,
      "outputs": []
    },
    {
      "metadata": {
        "id": "CAqmdgGgGVmj",
        "colab_type": "text"
      },
      "cell_type": "markdown",
      "source": [
        "Output"
      ]
    },
    {
      "metadata": {
        "id": "usxsGXxaGOfC",
        "colab_type": "code",
        "colab": {
          "base_uri": "https://localhost:8080/",
          "height": 776
        },
        "outputId": "95ace1bd-c703-4723-c74e-880308cb5315"
      },
      "cell_type": "code",
      "source": [
        "model.fit(xs, ys, epochs=20)\n",
        "print(model.predict([7.0]))"
      ],
      "execution_count": 6,
      "outputs": [
        {
          "output_type": "stream",
          "text": [
            "WARNING:tensorflow:From /usr/local/lib/python3.6/dist-packages/tensorflow/python/ops/math_ops.py:3066: to_int32 (from tensorflow.python.ops.math_ops) is deprecated and will be removed in a future version.\n",
            "Instructions for updating:\n",
            "Use tf.cast instead.\n",
            "Epoch 1/20\n",
            "6/6 [==============================] - 0s 17ms/sample - loss: 105.6183\n",
            "Epoch 2/20\n",
            "6/6 [==============================] - 0s 460us/sample - loss: 1.9689\n",
            "Epoch 3/20\n",
            "6/6 [==============================] - 0s 333us/sample - loss: 0.0608\n",
            "Epoch 4/20\n",
            "6/6 [==============================] - 0s 284us/sample - loss: 0.0254\n",
            "Epoch 5/20\n",
            "6/6 [==============================] - 0s 175us/sample - loss: 0.0245\n",
            "Epoch 6/20\n",
            "6/6 [==============================] - 0s 174us/sample - loss: 0.0242\n",
            "Epoch 7/20\n",
            "6/6 [==============================] - 0s 190us/sample - loss: 0.0239\n",
            "Epoch 8/20\n",
            "6/6 [==============================] - 0s 173us/sample - loss: 0.0237\n",
            "Epoch 9/20\n",
            "6/6 [==============================] - 0s 161us/sample - loss: 0.0234\n",
            "Epoch 10/20\n",
            "6/6 [==============================] - 0s 296us/sample - loss: 0.0231\n",
            "Epoch 11/20\n",
            "6/6 [==============================] - 0s 154us/sample - loss: 0.0229\n",
            "Epoch 12/20\n",
            "6/6 [==============================] - 0s 165us/sample - loss: 0.0226\n",
            "Epoch 13/20\n",
            "6/6 [==============================] - 0s 188us/sample - loss: 0.0223\n",
            "Epoch 14/20\n",
            "6/6 [==============================] - 0s 309us/sample - loss: 0.0221\n",
            "Epoch 15/20\n",
            "6/6 [==============================] - 0s 177us/sample - loss: 0.0218\n",
            "Epoch 16/20\n",
            "6/6 [==============================] - 0s 260us/sample - loss: 0.0216\n",
            "Epoch 17/20\n",
            "6/6 [==============================] - 0s 162us/sample - loss: 0.0214\n",
            "Epoch 18/20\n",
            "6/6 [==============================] - 0s 180us/sample - loss: 0.0211\n",
            "Epoch 19/20\n",
            "6/6 [==============================] - 0s 206us/sample - loss: 0.0209\n",
            "Epoch 20/20\n",
            "6/6 [==============================] - 0s 214us/sample - loss: 0.0206\n",
            "[[3.9765804]]\n"
          ],
          "name": "stdout"
        }
      ]
    }
  ]
}