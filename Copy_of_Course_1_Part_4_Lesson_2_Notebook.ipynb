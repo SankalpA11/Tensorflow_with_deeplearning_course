{
  "nbformat": 4,
  "nbformat_minor": 0,
  "metadata": {
    "colab": {
      "name": "Copy of Course 1 - Part 4 - Lesson 2 - Notebook.ipynb",
      "version": "0.3.2",
      "provenance": [],
      "collapsed_sections": [],
      "include_colab_link": true
    },
    "kernelspec": {
      "name": "python2",
      "display_name": "Python 2"
    }
  },
  "cells": [
    {
      "cell_type": "markdown",
      "metadata": {
        "id": "view-in-github",
        "colab_type": "text"
      },
      "source": [
        "<a href=\"https://colab.research.google.com/github/SankalpA11/Tensorflow_with_deeplearning_course/blob/master/Copy_of_Course_1_Part_4_Lesson_2_Notebook.ipynb\" target=\"_parent\"><img src=\"https://colab.research.google.com/assets/colab-badge.svg\" alt=\"Open In Colab\"/></a>"
      ]
    },
    {
      "metadata": {
        "id": "qnyTxjK_GbOD",
        "colab_type": "text"
      },
      "cell_type": "markdown",
      "source": [
        "# Beyond Hello World, A Computer Vision Example\n",
        "In the previous exercise you saw how to create a neural network that figured out the problem you were trying to solve. This gave an explicit example of learned behavior. Of course, in that instance, it was a bit of overkill because it would have been easier to write the function Y=2x-1 directly, instead of bothering with using Machine Learning to learn the relationship between X and Y for a fixed set of values, and extending that for all values.\n",
        "\n",
        "But what about a scenario where writing rules like that is much more difficult -- for example a computer vision problem? Let's take a look at a scenario where we can recognize different items of clothing, trained from a dataset containing 10 different types."
      ]
    },
    {
      "metadata": {
        "id": "H41FYgtlHPjW",
        "colab_type": "text"
      },
      "cell_type": "markdown",
      "source": [
        "## Start Coding\n",
        "\n",
        "Let's start with our import of TensorFlow"
      ]
    },
    {
      "metadata": {
        "id": "q3KzJyjv3rnA",
        "colab_type": "code",
        "outputId": "7b50f31d-4279-490c-8d9e-7e66c5db46e7",
        "colab": {
          "base_uri": "https://localhost:8080/",
          "height": 34
        }
      },
      "cell_type": "code",
      "source": [
        "import tensorflow as tf\n",
        "print(tf.__version__)"
      ],
      "execution_count": 1,
      "outputs": [
        {
          "output_type": "stream",
          "text": [
            "1.13.1\n"
          ],
          "name": "stdout"
        }
      ]
    },
    {
      "metadata": {
        "id": "n_n1U5do3u_F",
        "colab_type": "text"
      },
      "cell_type": "markdown",
      "source": [
        "The Fashion MNIST data is available directly in the tf.keras datasets API. You load it like this:"
      ]
    },
    {
      "metadata": {
        "id": "PmxkHFpt31bM",
        "colab_type": "code",
        "colab": {}
      },
      "cell_type": "code",
      "source": [
        "mnist = tf.keras.datasets.fashion_mnist"
      ],
      "execution_count": 0,
      "outputs": []
    },
    {
      "metadata": {
        "id": "GuoLQQBT4E-_",
        "colab_type": "text"
      },
      "cell_type": "markdown",
      "source": [
        "Calling load_data on this object will give you two sets of two lists, these will be the training and testing values for the graphics that contain the clothing items and their labels.\n"
      ]
    },
    {
      "metadata": {
        "id": "BTdRgExe4TRB",
        "colab_type": "code",
        "outputId": "06cccd08-26dd-4076-aebd-6584d002fa0f",
        "colab": {
          "base_uri": "https://localhost:8080/",
          "height": 202
        }
      },
      "cell_type": "code",
      "source": [
        "(training_images, training_labels), (test_images, test_labels) = mnist.load_data()"
      ],
      "execution_count": 4,
      "outputs": [
        {
          "output_type": "stream",
          "text": [
            "Downloading data from https://storage.googleapis.com/tensorflow/tf-keras-datasets/train-labels-idx1-ubyte.gz\n",
            "32768/29515 [=================================] - 0s 0us/step\n",
            "40960/29515 [=========================================] - 0s 0us/step\n",
            "Downloading data from https://storage.googleapis.com/tensorflow/tf-keras-datasets/train-images-idx3-ubyte.gz\n",
            "26427392/26421880 [==============================] - 0s 0us/step\n",
            "26435584/26421880 [==============================] - 0s 0us/step\n",
            "Downloading data from https://storage.googleapis.com/tensorflow/tf-keras-datasets/t10k-labels-idx1-ubyte.gz\n",
            "16384/5148 [===============================================================================================] - 0s 0us/step\n",
            "Downloading data from https://storage.googleapis.com/tensorflow/tf-keras-datasets/t10k-images-idx3-ubyte.gz\n",
            "4423680/4422102 [==============================] - 0s 0us/step\n",
            "4431872/4422102 [==============================] - 0s 0us/step\n"
          ],
          "name": "stdout"
        }
      ]
    },
    {
      "metadata": {
        "id": "rw395ROx4f5Q",
        "colab_type": "text"
      },
      "cell_type": "markdown",
      "source": [
        "What does these values look like? Let's print a training image, and a training label to see...Experiment with different indices in the array. For example, also take a look at index 42...that's a a different boot than the one at index 0\n"
      ]
    },
    {
      "metadata": {
        "id": "FPc9d3gJ3jWF",
        "colab_type": "code",
        "outputId": "3fd03249-df82-41c9-c436-97d4b48b13e3",
        "colab": {
          "base_uri": "https://localhost:8080/",
          "height": 1226
        }
      },
      "cell_type": "code",
      "source": [
        "import matplotlib.pyplot as plt\n",
        "plt.imshow(training_images[34])\n",
        "print(training_labels[34])\n",
        "print(training_images[34])"
      ],
      "execution_count": 9,
      "outputs": [
        {
          "output_type": "stream",
          "text": [
            "0\n",
            "[[  0   0   0   0   0   0   0   0   0  42 110   1   0   0   0   0   0 156\n",
            "   21   0   0   0   0   0   0   0   0   0]\n",
            " [  0   0   0   0   0   1  32  56  40  21 195 170 173 193 183 183 243 135\n",
            "    3  40  44  40   1   0   0   0   0   0]\n",
            " [  0   0   0   0   0  48  50  25   7   1   1  38 173 255 220 154  23   0\n",
            "    0   0  13  32  52   0   0   0   0   0]\n",
            " [  0   0   0   0  25  38  25  19  13  17   0   0   0   0   0   0   0   7\n",
            "   11  11  13  19  34  32   0   0   0   0]\n",
            " [  0   0   0   5  65  25  46  27   9  11  13   3   0   0   0   5   3   0\n",
            "    0   5  15  27  27  50  23   0   0   0]\n",
            " [  0   0   0  28  46  42  32  46   1   0   0   0   0   0   3   0   1  27\n",
            "    9   1  13  28  46  42  38   0   0   0]\n",
            " [  0   0   0  59  25  50  54   9  94 160  98  75  81 108 131  92  61  79\n",
            "  129 148  63  46  61  27  50   0   0   0]\n",
            " [  0   0   0  15  40  46  75  44  32  32   1 127 133  25 173  46 137 110\n",
            "    5   7  50  65  56  40  30   0   0   0]\n",
            " [  0   0   0   0  13  52  81  59  36   0   0  32 106   7  86  23  13  11\n",
            "    0  13  67 129  71  17   0   0   0   0]\n",
            " [  0   0   0   0   0  25 123  96  77  42  32  13   1   5   1  13  27  28\n",
            "   21  57  56  46  19   0   0   0   0   0]\n",
            " [  0   0   0   0   0   0   0  79 112  73  59  44  27  32  32  48  48  46\n",
            "   54  67  34   0   0   0   0   0   0   0]\n",
            " [  0   0   0   0   0   0   0  56 119  54  44  46  40  36  36  36  38  36\n",
            "   65  71  21   0   1   0   0   0   0   0]\n",
            " [  0   0   0   0   0   0   0  36 112  50  44  46  40  42  42  40  38  36\n",
            "   52  90  21   0   1   0   0   0   0   0]\n",
            " [  0   0   0   0   0   1   0  23 102  54  50  42  32  38  42  42  42  36\n",
            "   38  96  17   0   1   0   0   0   0   0]\n",
            " [  0   0   0   0   0   1   0  17  94  52  56  48  40  42  42  42  44  42\n",
            "   38  83  11   0   1   0   0   0   0   0]\n",
            " [  0   0   0   0   0   1   0  15  94  54  54  54  50  44  44  44  46  36\n",
            "   42  77  21   0   0   0   0   0   0   0]\n",
            " [  0   0   0   0   0   1   0  11  88  57  50  52  48  44  44  44  46  40\n",
            "   36  69  48   0   0   0   0   0   0   0]\n",
            " [  0   0   0   0   0   0   0  27  83  56  46  50  50  44  44  44  46  40\n",
            "   27  57  63   0   0   0   0   0   0   0]\n",
            " [  0   0   0   0   0   0   0  48  75  54  42  50  50  44  44  44  44  44\n",
            "   50  48  69   3   0   3   0   0   0   0]\n",
            " [  0   0   0   0   0   0   0  57  67  52  44  46  48  46  44  44  40  40\n",
            "   48  27  61  30   0   1   0   0   0   0]\n",
            " [  0   0   0   0   0   0   0  71  56  48  48  46  50  48  44  44  42  42\n",
            "   46  40  56  50   0   0   0   0   0   0]\n",
            " [  0   0   0   0   0   0   0  71  54  50  50  46  52  46  44  46  48  40\n",
            "   40  50  38  48   0   0   0   0   0   0]\n",
            " [  0   0   0   0   0   0   7  71  57  54  50  48  54  46  44  48  50  48\n",
            "   40  44  44  57   1   0   0   0   0   0]\n",
            " [  0   0   0   0   0   0  25  71  40  52  56  46  48  48  50  42  48  52\n",
            "   44  44  46  52   0   0   0   0   0   0]\n",
            " [  0   0   0   0   0   0  34  65  54  48  52  46  50  48  46  44  46  54\n",
            "   50  48  52  61   5   0   0   0   0   0]\n",
            " [  0   0   0   0   0   0  38  56  50  46  48  46  52  48  38  46  42  52\n",
            "   46  46  48  57  19   0   0   0   0   0]\n",
            " [  0   0   0   0   0   0  57  57  50  52  48  44  50  46  38  46  44  50\n",
            "   52  52  50  57  30   0   0   0   0   0]\n",
            " [  0   0   0   0   0   0  30  30  36  42  42  42  57  57  54  52  50  42\n",
            "   46  32  19  23  13   0   0   0   0   0]]\n"
          ],
          "name": "stdout"
        },
        {
          "output_type": "display_data",
          "data": {
            "image/png": "[encoded data removed]",
            "text/plain": [
              "<Figure size 432x288 with 1 Axes>"
            ]
          },
          "metadata": {
            "tags": []
          }
        }
      ]
    },
    {
      "metadata": {
        "id": "3cbrdH225_nH",
        "colab_type": "text"
      },
      "cell_type": "markdown",
      "source": [
        "You'll notice that all of the values in the number are between 0 and 255. If we are training a neural network, for various reasons it's easier if we treat all values as between 0 and 1, a process called '**normalizing**'...and fortunately in Python it's easy to normalize a list like this without looping. You do it like this:"
      ]
    },
    {
      "metadata": {
        "id": "kRH19pWs6ZDn",
        "colab_type": "code",
        "colab": {}
      },
      "cell_type": "code",
      "source": [
        "training_images  = training_images / 255.0\n",
        "test_images = test_images / 255.0"
      ],
      "execution_count": 0,
      "outputs": []
    },
    {
      "metadata": {
        "id": "3DkO0As46lRn",
        "colab_type": "text"
      },
      "cell_type": "markdown",
      "source": [
        "Now you might be wondering why there are 2 sets...training and testing -- remember we spoke about this in the intro? The idea is to have 1 set of data for training, and then another set of data...that the model hasn't yet seen...to see how good it would be at classifying values. After all, when you're done, you're going to want to try it out with data that it hadn't previously seen!"
      ]
    },
    {
      "metadata": {
        "id": "dIn7S9gf62ie",
        "colab_type": "text"
      },
      "cell_type": "markdown",
      "source": [
        "Let's now design the model. There's quite a few new concepts here, but don't worry, you'll get the hang of them. "
      ]
    },
    {
      "metadata": {
        "id": "7mAyndG3kVlK",
        "colab_type": "code",
        "colab": {}
      },
      "cell_type": "code",
      "source": [
        "model = tf.keras.models.Sequential([tf.keras.layers.Flatten(), \n",
        "                                    tf.keras.layers.Dense(128, activation=tf.nn.relu), \n",
        "                                    tf.keras.layers.Dense(10, activation=tf.nn.softmax)])"
      ],
      "execution_count": 0,
      "outputs": []
    },
    {
      "metadata": {
        "id": "-lUcWaiX7MFj",
        "colab_type": "text"
      },
      "cell_type": "markdown",
      "source": [
        "**Sequential**: That defines a SEQUENCE of layers in the neural network\n",
        "\n",
        "**Flatten**: Remember earlier where our images were a square, when you printed them out? Flatten just takes that square and turns it into a 1 dimensional set.\n",
        "\n",
        "**Dense**: Adds a layer of neurons\n",
        "\n",
        "Each layer of neurons need an **activation function** to tell them what to do. There's lots of options, but just use these for now. \n",
        "\n",
        "**Relu** effectively means \"If X>0 return X, else return 0\" -- so what it does it it only passes values 0 or greater to the next layer in the network.\n",
        "\n",
        "**Softmax** takes a set of values, and effectively picks the biggest one, so, for example, if the output of the last layer looks like [0.1, 0.1, 0.05, 0.1, 9.5, 0.1, 0.05, 0.05, 0.05], it saves you from fishing through it looking for the biggest value, and turns it into [0,0,0,0,1,0,0,0,0] -- The goal is to save a lot of coding!\n"
      ]
    },
    {
      "metadata": {
        "id": "c8vbMCqb9Mh6",
        "colab_type": "text"
      },
      "cell_type": "markdown",
      "source": [
        "The next thing to do, now the model is defined, is to actually build it. You do this by compiling it with an optimizer and loss function as before -- and then you train it by calling **model.fit ** asking it to fit your training data to your training labels -- i.e. have it figure out the relationship between the training data and its actual labels, so in future if you have data that looks like the training data, then it can make a prediction for what that data would look like. "
      ]
    },
    {
      "metadata": {
        "id": "BLMdl9aP8nQ0",
        "colab_type": "code",
        "outputId": "bfd63426-34ea-4585-b1aa-fb811d468573",
        "colab": {
          "base_uri": "https://localhost:8080/",
          "height": 1714
        }
      },
      "cell_type": "code",
      "source": [
        "model.compile(optimizer = tf.train.AdamOptimizer(),\n",
        "              loss = 'sparse_categorical_crossentropy',\n",
        "              metrics=['accuracy'])\n",
        "\n",
        "model.fit(training_images, training_labels, epochs=50)"
      ],
      "execution_count": 14,
      "outputs": [
        {
          "output_type": "stream",
          "text": [
            "Epoch 1/50\n",
            "60000/60000 [==============================] - 5s 88us/sample - loss: 0.2830 - acc: 0.8947\n",
            "Epoch 2/50\n",
            "60000/60000 [==============================] - 5s 81us/sample - loss: 0.2711 - acc: 0.8990\n",
            "Epoch 3/50\n",
            "60000/60000 [==============================] - 5s 91us/sample - loss: 0.2598 - acc: 0.9039\n",
            "Epoch 4/50\n",
            "60000/60000 [==============================] - 6s 92us/sample - loss: 0.2486 - acc: 0.9081\n",
            "Epoch 5/50\n",
            "60000/60000 [==============================] - 5s 90us/sample - loss: 0.2402 - acc: 0.9104\n",
            "Epoch 6/50\n",
            "60000/60000 [==============================] - 5s 89us/sample - loss: 0.2324 - acc: 0.9129\n",
            "Epoch 7/50\n",
            "60000/60000 [==============================] - 5s 88us/sample - loss: 0.2245 - acc: 0.9146\n",
            "Epoch 8/50\n",
            "60000/60000 [==============================] - 5s 87us/sample - loss: 0.2171 - acc: 0.9187\n",
            "Epoch 9/50\n",
            "60000/60000 [==============================] - 5s 87us/sample - loss: 0.2096 - acc: 0.9217\n",
            "Epoch 10/50\n",
            "60000/60000 [==============================] - 5s 88us/sample - loss: 0.2050 - acc: 0.9230\n",
            "Epoch 11/50\n",
            "60000/60000 [==============================] - 5s 87us/sample - loss: 0.1987 - acc: 0.9257\n",
            "Epoch 12/50\n",
            "60000/60000 [==============================] - 5s 89us/sample - loss: 0.1932 - acc: 0.9285\n",
            "Epoch 13/50\n",
            "60000/60000 [==============================] - 5s 88us/sample - loss: 0.1892 - acc: 0.9301\n",
            "Epoch 14/50\n",
            "60000/60000 [==============================] - 5s 89us/sample - loss: 0.1852 - acc: 0.9308\n",
            "Epoch 15/50\n",
            "60000/60000 [==============================] - 5s 88us/sample - loss: 0.1760 - acc: 0.9344\n",
            "Epoch 16/50\n",
            "60000/60000 [==============================] - 5s 90us/sample - loss: 0.1744 - acc: 0.9348\n",
            "Epoch 17/50\n",
            "60000/60000 [==============================] - 5s 89us/sample - loss: 0.1697 - acc: 0.9365\n",
            "Epoch 18/50\n",
            "60000/60000 [==============================] - 5s 88us/sample - loss: 0.1656 - acc: 0.9373\n",
            "Epoch 19/50\n",
            "60000/60000 [==============================] - 5s 87us/sample - loss: 0.1622 - acc: 0.9389\n",
            "Epoch 20/50\n",
            "60000/60000 [==============================] - 5s 86us/sample - loss: 0.1577 - acc: 0.9412\n",
            "Epoch 21/50\n",
            "60000/60000 [==============================] - 5s 86us/sample - loss: 0.1557 - acc: 0.9422\n",
            "Epoch 22/50\n",
            "60000/60000 [==============================] - 5s 86us/sample - loss: 0.1520 - acc: 0.9434\n",
            "Epoch 23/50\n",
            "60000/60000 [==============================] - 5s 86us/sample - loss: 0.1490 - acc: 0.9440\n",
            "Epoch 24/50\n",
            "60000/60000 [==============================] - 5s 86us/sample - loss: 0.1475 - acc: 0.9438\n",
            "Epoch 25/50\n",
            "60000/60000 [==============================] - 5s 85us/sample - loss: 0.1400 - acc: 0.9476\n",
            "Epoch 26/50\n",
            "60000/60000 [==============================] - 5s 86us/sample - loss: 0.1366 - acc: 0.9480\n",
            "Epoch 27/50\n",
            "60000/60000 [==============================] - 5s 88us/sample - loss: 0.1380 - acc: 0.9482\n",
            "Epoch 28/50\n",
            "60000/60000 [==============================] - 5s 86us/sample - loss: 0.1331 - acc: 0.9499\n",
            "Epoch 29/50\n",
            "60000/60000 [==============================] - 5s 77us/sample - loss: 0.1301 - acc: 0.9522\n",
            "Epoch 30/50\n",
            "60000/60000 [==============================] - 5s 77us/sample - loss: 0.1284 - acc: 0.9522\n",
            "Epoch 31/50\n",
            "60000/60000 [==============================] - 5s 77us/sample - loss: 0.1254 - acc: 0.9529\n",
            "Epoch 32/50\n",
            "60000/60000 [==============================] - 5s 76us/sample - loss: 0.1222 - acc: 0.9545\n",
            "Epoch 33/50\n",
            "60000/60000 [==============================] - 5s 76us/sample - loss: 0.1179 - acc: 0.9560\n",
            "Epoch 34/50\n",
            "60000/60000 [==============================] - 5s 77us/sample - loss: 0.1197 - acc: 0.9554\n",
            "Epoch 35/50\n",
            "60000/60000 [==============================] - 5s 77us/sample - loss: 0.1148 - acc: 0.9572\n",
            "Epoch 36/50\n",
            "60000/60000 [==============================] - 5s 77us/sample - loss: 0.1128 - acc: 0.9579\n",
            "Epoch 37/50\n",
            "60000/60000 [==============================] - 5s 77us/sample - loss: 0.1113 - acc: 0.9583\n",
            "Epoch 38/50\n",
            "60000/60000 [==============================] - 5s 78us/sample - loss: 0.1114 - acc: 0.9583\n",
            "Epoch 39/50\n",
            "60000/60000 [==============================] - 5s 77us/sample - loss: 0.1100 - acc: 0.9585\n",
            "Epoch 40/50\n",
            "60000/60000 [==============================] - 5s 77us/sample - loss: 0.1061 - acc: 0.9600\n",
            "Epoch 41/50\n",
            "60000/60000 [==============================] - 5s 77us/sample - loss: 0.1046 - acc: 0.9602\n",
            "Epoch 42/50\n",
            "60000/60000 [==============================] - 5s 89us/sample - loss: 0.1031 - acc: 0.9609\n",
            "Epoch 43/50\n",
            "60000/60000 [==============================] - 5s 87us/sample - loss: 0.0993 - acc: 0.9618\n",
            "Epoch 44/50\n",
            "60000/60000 [==============================] - 5s 88us/sample - loss: 0.1001 - acc: 0.9623\n",
            "Epoch 45/50\n",
            "60000/60000 [==============================] - 5s 88us/sample - loss: 0.0989 - acc: 0.9635\n",
            "Epoch 46/50\n",
            "60000/60000 [==============================] - 5s 88us/sample - loss: 0.0972 - acc: 0.9631\n",
            "Epoch 47/50\n",
            "60000/60000 [==============================] - 5s 87us/sample - loss: 0.0932 - acc: 0.9653\n",
            "Epoch 48/50\n",
            "60000/60000 [==============================] - 5s 87us/sample - loss: 0.0915 - acc: 0.9657\n",
            "Epoch 49/50\n",
            "60000/60000 [==============================] - 5s 86us/sample - loss: 0.0907 - acc: 0.9660\n",
            "Epoch 50/50\n",
            "60000/60000 [==============================] - 5s 86us/sample - loss: 0.0910 - acc: 0.9657\n"
          ],
          "name": "stdout"
        },
        {
          "output_type": "execute_result",
          "data": {
            "text/plain": [
              "<tensorflow.python.keras.callbacks.History at 0x7fd00e8ed390>"
            ]
          },
          "metadata": {
            "tags": []
          },
          "execution_count": 14
        }
      ]
    },
    {
      "metadata": {
        "id": "-JJMsvSB-1UY",
        "colab_type": "text"
      },
      "cell_type": "markdown",
      "source": [
        "Once it's done training -- you should see an accuracy value at the end of the final epoch. It might look something like 0.9098. This tells you that your neural network is about 91% accurate in classifying the training data. I.E., it figured out a pattern match between the image and the labels that worked 91% of the time. Not great, but not bad considering it was only trained for 5 epochs and done quite quickly.\n",
        "\n",
        "But how would it work with unseen data? That's why we have the test images. We can call model.evaluate, and pass in the two sets, and it will report back the loss for each. Let's give it a try:"
      ]
    },
    {
      "metadata": {
        "id": "WzlqsEzX9s5P",
        "colab_type": "code",
        "outputId": "8e08afa6-de12-469a-b70e-f11f22c7ccc3",
        "colab": {
          "base_uri": "https://localhost:8080/",
          "height": 50
        }
      },
      "cell_type": "code",
      "source": [
        "model.evaluate(test_images, test_labels)"
      ],
      "execution_count": 20,
      "outputs": [
        {
          "output_type": "stream",
          "text": [
            "10000/10000 [==============================] - 0s 48us/sample - loss: 0.4869 - acc: 0.8925\n"
          ],
          "name": "stdout"
        },
        {
          "output_type": "execute_result",
          "data": {
            "text/plain": [
              "[0.4869235109269619, 0.8925]"
            ]
          },
          "metadata": {
            "tags": []
          },
          "execution_count": 20
        }
      ]
    },
    {
      "metadata": {
        "id": "6tki-Aro_Uax",
        "colab_type": "text"
      },
      "cell_type": "markdown",
      "source": [
        "For me, that returned a accuracy of about .8838, which means it was about 88% accurate. As expected it probably would not do as well with *unseen* data as it did with data it was trained on!  As you go through this course, you'll look at ways to improve this. \n",
        "\n",
        "To explore further, try the below exercises:\n"
      ]
    },
    {
      "metadata": {
        "id": "htldZNWcIPSN",
        "colab_type": "text"
      },
      "cell_type": "markdown",
      "source": [
        "# Exploration Exercises"
      ]
    },
    {
      "metadata": {
        "id": "rquQqIx4AaGR",
        "colab_type": "text"
      },
      "cell_type": "markdown",
      "source": [
        "###Exercise 1:\n",
        "For this first exercise run the below code: It creates a set of classifications for each of the test images, and then prints the first entry in the classifications. The output, after you run it is a list of numbers. Why do you think this is, and what do those numbers represent? "
      ]
    },
    {
      "metadata": {
        "id": "RyEIki0z_hAD",
        "colab_type": "code",
        "colab": {
          "base_uri": "https://localhost:8080/",
          "height": 67
        },
        "outputId": "76d5f571-ae10-4687-e47e-c9d65cb5fb4c"
      },
      "cell_type": "code",
      "source": [
        "classifications = model.predict(test_images)\n",
        "\n",
        "print(classifications[7])\n",
        "print(test_labels[7])"
      ],
      "execution_count": 25,
      "outputs": [
        {
          "output_type": "stream",
          "text": [
            "[1.1188382e-11 6.7095263e-25 1.7334883e-06 7.3764356e-11 2.8499824e-04\n",
            " 1.9278395e-19 9.9971324e-01 3.5470077e-24 3.1837018e-18 2.1406825e-27]\n",
            "6\n"
          ],
          "name": "stdout"
        }
      ]
    },
    {
      "metadata": {
        "id": "MdzqbQhRArzm",
        "colab_type": "text"
      },
      "cell_type": "markdown",
      "source": [
        "Hint: try running print(test_labels[0]) -- and you'll get a 9. Does that help you understand why this list looks the way it does? "
      ]
    },
    {
      "metadata": {
        "id": "WnBGOrMiA1n5",
        "colab_type": "code",
        "colab": {
          "base_uri": "https://localhost:8080/",
          "height": 34
        },
        "outputId": "a42c05fe-f091-41e3-889e-a3e1d90f0282"
      },
      "cell_type": "code",
      "source": [
        "print(test_labels[0])"
      ],
      "execution_count": 23,
      "outputs": [
        {
          "output_type": "stream",
          "text": [
            "9\n"
          ],
          "name": "stdout"
        }
      ]
    },
    {
      "metadata": {
        "id": "uUs7eqr7uSvs",
        "colab_type": "text"
      },
      "cell_type": "markdown",
      "source": [
        "### What does this list represent?\n",
        "\n",
        "\n",
        "1.   It's 10 random meaningless values\n",
        "2.   It's the first 10 classifications that the computer made\n",
        "3.   It's the probability that this item is each of the 10 classes\n",
        "\n"
      ]
    },
    {
      "metadata": {
        "id": "wAbr92RTA67u",
        "colab_type": "text"
      },
      "cell_type": "markdown",
      "source": [
        "####Answer: \n",
        "The correct answer is (3)\n",
        "\n",
        "The output of the model is a list of 10 numbers. These numbers are a probability that the value being classified is the corresponding value, i.e. the first value in the list is the probability that the handwriting is of a '0', the next is a '1' etc. Notice that they are all VERY LOW probabilities.\n",
        "\n",
        "For the 7, the probability was .999+, i.e. the neural network is telling us that it's almost certainly a 7."
      ]
    },
    {
      "metadata": {
        "id": "CD4kC6TBu-69",
        "colab_type": "text"
      },
      "cell_type": "markdown",
      "source": [
        "### How do you know that this list tells you that the item is an ankle boot?\n",
        "\n",
        "\n",
        "1.   There's not enough information to answer that question\n",
        "2.   The 10th element on the list is the biggest, and the ankle boot is labelled 9\n",
        "2.   The ankle boot is label 9, and there are 0->9 elements in the list\n",
        "\n",
        "\n"
      ]
    },
    {
      "metadata": {
        "id": "I-haLncrva5L",
        "colab_type": "text"
      },
      "cell_type": "markdown",
      "source": [
        "####Answer\n",
        "The correct answer is (2). Both the list and the labels are 0 based, so the ankle boot having label 9 means that it is the 10th of the 10 classes. The list having the 10th element being the highest value means that the Neural Network has predicted that the item it is classifying is most likely an ankle boot"
      ]
    },
    {
      "metadata": {
        "id": "OgQSIfDSOWv6",
        "colab_type": "text"
      },
      "cell_type": "markdown",
      "source": [
        "##Exercise 2: \n",
        "Let's now look at the layers in your model. Experiment with different values for the dense layer with 512 neurons. What different results do you get for loss, training time etc? Why do you think that's the case? \n",
        "\n"
      ]
    },
    {
      "metadata": {
        "id": "GSZSwV5UObQP",
        "colab_type": "code",
        "colab": {
          "base_uri": "https://localhost:8080/",
          "height": 319
        },
        "outputId": "1cfd69ba-efd3-4c5d-83d8-6d310a42ead7"
      },
      "cell_type": "code",
      "source": [
        "import tensorflow as tf\n",
        "print(tf.__version__)\n",
        "\n",
        "mnist = tf.keras.datasets.mnist\n",
        "\n",
        "(training_images, training_labels) ,  (test_images, test_labels) = mnist.load_data()\n",
        "\n",
        "training_images = training_images/255.0\n",
        "test_images = test_images/255.0\n",
        "\n",
        "model = tf.keras.models.Sequential([tf.keras.layers.Flatten(),\n",
        "                                    tf.keras.layers.Dense(1024, activation=tf.nn.relu),\n",
        "                                    tf.keras.layers.Dense(10, activation=tf.nn.softmax)])\n",
        "\n",
        "model.compile(optimizer = 'adam',\n",
        "              loss = 'sparse_categorical_crossentropy')\n",
        "\n",
        "model.fit(training_images, training_labels, epochs=5)\n",
        "\n",
        "model.evaluate(test_images, test_labels)\n",
        "\n",
        "classifications = model.predict(test_images)\n",
        "\n",
        "print(classifications[0])\n",
        "print(test_labels[0])"
      ],
      "execution_count": 26,
      "outputs": [
        {
          "output_type": "stream",
          "text": [
            "1.13.1\n",
            "Downloading data from https://storage.googleapis.com/tensorflow/tf-keras-datasets/mnist.npz\n",
            "11493376/11490434 [==============================] - 0s 0us/step\n",
            "11501568/11490434 [==============================] - 0s 0us/step\n",
            "Epoch 1/5\n",
            "60000/60000 [==============================] - 32s 530us/sample - loss: 0.1866\n",
            "Epoch 2/5\n",
            "60000/60000 [==============================] - 31s 522us/sample - loss: 0.0737\n",
            "Epoch 3/5\n",
            "60000/60000 [==============================] - 32s 534us/sample - loss: 0.0486\n",
            "Epoch 4/5\n",
            "60000/60000 [==============================] - 35s 578us/sample - loss: 0.0353\n",
            "Epoch 5/5\n",
            "60000/60000 [==============================] - 35s 590us/sample - loss: 0.0255\n",
            "10000/10000 [==============================] - 1s 126us/sample - loss: 0.0801\n",
            "[3.2342551e-12 8.5291030e-10 7.1762344e-08 5.2920518e-07 5.0225644e-15\n",
            " 6.9843319e-12 1.2869622e-15 9.9999940e-01 4.1951118e-10 1.7363465e-09]\n",
            "7\n"
          ],
          "name": "stdout"
        }
      ]
    },
    {
      "metadata": {
        "id": "bOOEnHZFv5cS",
        "colab_type": "text"
      },
      "cell_type": "markdown",
      "source": [
        "###Question 1. Increase to 1024 Neurons -- What's the impact?\n",
        "\n",
        "1. Training takes longer, but is more accurate\n",
        "2. Training takes longer, but no impact on accuracy\n",
        "3. Training takes the same time, but is more accurate\n"
      ]
    },
    {
      "metadata": {
        "id": "U73MUP2lwrI2",
        "colab_type": "text"
      },
      "cell_type": "markdown",
      "source": [
        "####Answer\n",
        "The correct answer is (1) by adding more Neurons we have to do more calculations, slowing down the process, but in this case they have a good impact -- we do get more accurate. That doesn't mean it's always a case of 'more is better', you can hit the law of diminishing returns very quickly!"
      ]
    },
    {
      "metadata": {
        "id": "WtWxK16hQxLN",
        "colab_type": "text"
      },
      "cell_type": "markdown",
      "source": [
        "##Exercise 3: \n",
        "\n",
        "What would happen if you remove the Flatten() layer. Why do you think that's the case? \n",
        "\n",
        "You get an error about the shape of the data. It may seem vague right now, but it reinforces the rule of thumb that the first layer in your network should be the same shape as your data. Right now our data is 28x28 images, and 28 layers of 28 neurons would be infeasible, so it makes more sense to 'flatten' that 28,28 into a 784x1. Instead of wriitng all the code to handle that ourselves, we add the Flatten() layer at the begining, and when the arrays are loaded into the model later, they'll automatically be flattened for us."
      ]
    },
    {
      "metadata": {
        "id": "ExNxCwhcQ18S",
        "colab_type": "code",
        "colab": {
          "base_uri": "https://localhost:8080/",
          "height": 269
        },
        "outputId": "fefd2c36-a1fd-42d0-cc74-8d29e0561b04"
      },
      "cell_type": "code",
      "source": [
        "import tensorflow as tf\n",
        "print(tf.__version__)\n",
        "\n",
        "mnist = tf.keras.datasets.mnist\n",
        "\n",
        "(training_images, training_labels) ,  (test_images, test_labels) = mnist.load_data()\n",
        "\n",
        "training_images = training_images/255.0\n",
        "test_images = test_images/255.0\n",
        "\n",
        "model = tf.keras.models.Sequential([tf.keras.layers.Flatten(),\n",
        "                                    tf.keras.layers.Dense(64, activation=tf.nn.relu),\n",
        "                                    tf.keras.layers.Dense(10, activation=tf.nn.softmax)])\n",
        "\n",
        "model.compile(optimizer = 'adam',\n",
        "              loss = 'sparse_categorical_crossentropy')\n",
        "\n",
        "model.fit(training_images, training_labels, epochs=5)\n",
        "\n",
        "model.evaluate(test_images, test_labels)\n",
        "\n",
        "classifications = model.predict(test_images)\n",
        "\n",
        "print(classifications[0])\n",
        "print(test_labels[0])"
      ],
      "execution_count": 28,
      "outputs": [
        {
          "output_type": "stream",
          "text": [
            "1.13.1\n",
            "Epoch 1/5\n",
            "60000/60000 [==============================] - 5s 83us/sample - loss: 0.3074\n",
            "Epoch 2/5\n",
            "60000/60000 [==============================] - 4s 75us/sample - loss: 0.1479\n",
            "Epoch 3/5\n",
            "60000/60000 [==============================] - 4s 74us/sample - loss: 0.1075\n",
            "Epoch 4/5\n",
            "60000/60000 [==============================] - 4s 75us/sample - loss: 0.0859\n",
            "Epoch 5/5\n",
            "60000/60000 [==============================] - 5s 76us/sample - loss: 0.0686\n",
            "10000/10000 [==============================] - 1s 56us/sample - loss: 0.1020\n",
            "[1.2886446e-07 1.3604470e-10 2.5724861e-04 4.9476849e-04 7.1004931e-11\n",
            " 8.1584886e-08 1.3265802e-13 9.9914110e-01 1.1891135e-06 1.0541464e-04]\n",
            "7\n"
          ],
          "name": "stdout"
        }
      ]
    },
    {
      "metadata": {
        "id": "VqoCR-ieSGDg",
        "colab_type": "text"
      },
      "cell_type": "markdown",
      "source": [
        "##Exercise 4: \n",
        "\n",
        "Consider the final (output) layers. Why are there 10 of them? What would happen if you had a different amount than 10? For example, try training the network with 5\n",
        "\n",
        "You get an error as soon as it finds an unexpected value. Another rule of thumb -- the number of neurons in the last layer should match the number of classes you are classifying for. In this case it's the digits 0-9, so there are 10 of them, hence you should have 10 neurons in your final layer."
      ]
    },
    {
      "metadata": {
        "id": "MMckVntcSPvo",
        "colab_type": "code",
        "colab": {
          "base_uri": "https://localhost:8080/",
          "height": 269
        },
        "outputId": "f73d83b8-45ea-4276-e5e2-2d7f6a2c7967"
      },
      "cell_type": "code",
      "source": [
        "import tensorflow as tf\n",
        "print(tf.__version__)\n",
        "\n",
        "mnist = tf.keras.datasets.mnist\n",
        "\n",
        "(training_images, training_labels) ,  (test_images, test_labels) = mnist.load_data()\n",
        "\n",
        "training_images = training_images/255.0\n",
        "test_images = test_images/255.0\n",
        "\n",
        "model = tf.keras.models.Sequential([tf.keras.layers.Flatten(),\n",
        "                                    tf.keras.layers.Dense(64, activation=tf.nn.relu),\n",
        "                                    tf.keras.layers.Dense(10, activation=tf.nn.softmax)])\n",
        "\n",
        "model.compile(optimizer = 'adam',\n",
        "              loss = 'sparse_categorical_crossentropy')\n",
        "\n",
        "model.fit(training_images, training_labels, epochs=5)\n",
        "\n",
        "model.evaluate(test_images, test_labels)\n",
        "\n",
        "classifications = model.predict(test_images)\n",
        "\n",
        "print(classifications[0])\n",
        "print(test_labels[0])"
      ],
      "execution_count": 32,
      "outputs": [
        {
          "output_type": "stream",
          "text": [
            "1.13.1\n",
            "Epoch 1/5\n",
            "60000/60000 [==============================] - 6s 98us/sample - loss: 0.3012\n",
            "Epoch 2/5\n",
            "60000/60000 [==============================] - 6s 92us/sample - loss: 0.1439\n",
            "Epoch 3/5\n",
            "60000/60000 [==============================] - 6s 93us/sample - loss: 0.1034\n",
            "Epoch 4/5\n",
            "60000/60000 [==============================] - 5s 78us/sample - loss: 0.0809\n",
            "Epoch 5/5\n",
            "60000/60000 [==============================] - 6s 94us/sample - loss: 0.0649\n",
            "10000/10000 [==============================] - 1s 69us/sample - loss: 0.0903\n",
            "[5.1906682e-06 2.7970835e-08 4.4830827e-05 7.2264536e-03 1.1126109e-09\n",
            " 1.1250804e-06 1.8865347e-09 9.9264538e-01 6.0335992e-06 7.0902883e-05]\n",
            "7\n"
          ],
          "name": "stdout"
        }
      ]
    },
    {
      "metadata": {
        "id": "-0lF5MuvSuZF",
        "colab_type": "text"
      },
      "cell_type": "markdown",
      "source": [
        "##Exercise 5: \n",
        "\n",
        "Consider the effects of additional layers in the network. What will happen if you add another layer between the one with 512 and the final layer with 10. \n",
        "\n",
        "Ans: There isn't a significant impact -- because this is relatively simple data. For far more complex data (including color images to be classified as flowers that you'll see in the next lesson), extra layers are often necessary. "
      ]
    },
    {
      "metadata": {
        "id": "b1YPa6UhS8Es",
        "colab_type": "code",
        "colab": {}
      },
      "cell_type": "code",
      "source": [
        "import tensorflow as tf\n",
        "print(tf.__version__)\n",
        "\n",
        "mnist = tf.keras.datasets.mnist\n",
        "\n",
        "(training_images, training_labels) ,  (test_images, test_labels) = mnist.load_data()\n",
        "\n",
        "training_images = training_images/255.0\n",
        "test_images = test_images/255.0\n",
        "\n",
        "model = tf.keras.models.Sequential([tf.keras.layers.Flatten(),\n",
        "                                    tf.keras.layers.Dense(512, activation=tf.nn.relu),\n",
        "                                    tf.keras.layers.Dense(256, activation=tf.nn.relu),\n",
        "                                    tf.keras.layers.Dense(5, activation=tf.nn.softmax)])\n",
        "\n",
        "model.compile(optimizer = 'adam',\n",
        "              loss = 'sparse_categorical_crossentropy')\n",
        "\n",
        "model.fit(training_images, training_labels, epochs=5)\n",
        "\n",
        "model.evaluate(test_images, test_labels)\n",
        "\n",
        "classifications = model.predict(test_images)\n",
        "\n",
        "print(classifications[0])\n",
        "print(test_labels[0])"
      ],
      "execution_count": 0,
      "outputs": []
    },
    {
      "metadata": {
        "id": "Bql9fyaNUSFy",
        "colab_type": "text"
      },
      "cell_type": "markdown",
      "source": [
        "#Exercise 6: \n",
        "\n",
        "Consider the impact of training for more or less epochs. Why do you think that would be the case? \n",
        "\n",
        "Try 15 epochs -- you'll probably get a model with a much better loss than the one with 5\n",
        "Try 30 epochs -- you might see the loss value stops decreasing, and sometimes increases. This is a side effect of something called 'overfitting' which you can learn about [somewhere] and it's something you need to keep an eye out for when training neural networks. There's no point in wasting your time training if you aren't improving your loss, right! :)"
      ]
    },
    {
      "metadata": {
        "id": "uE3esj9BURQe",
        "colab_type": "code",
        "colab": {
          "base_uri": "https://localhost:8080/",
          "height": 605
        },
        "outputId": "c8e664a8-7ba0-4835-cf79-f643955dd557"
      },
      "cell_type": "code",
      "source": [
        "import tensorflow as tf\n",
        "print(tf.__version__)\n",
        "\n",
        "mnist = tf.keras.datasets.mnist\n",
        "\n",
        "(training_images, training_labels) ,  (test_images, test_labels) = mnist.load_data()\n",
        "\n",
        "training_images = training_images/255.0\n",
        "test_images = test_images/255.0\n",
        "\n",
        "model = tf.keras.models.Sequential([tf.keras.layers.Flatten(),\n",
        "                                    tf.keras.layers.Dense(128, activation=tf.nn.relu),\n",
        "                                    tf.keras.layers.Dense(10, activation=tf.nn.softmax)])\n",
        "\n",
        "model.compile(optimizer = 'adam',\n",
        "              loss = 'sparse_categorical_crossentropy')\n",
        "\n",
        "model.fit(training_images, training_labels, epochs=15)\n",
        "\n",
        "model.evaluate(test_images, test_labels)\n",
        "\n",
        "classifications = model.predict(test_images)\n",
        "\n",
        "print(classifications[34])\n",
        "print(test_labels[34])"
      ],
      "execution_count": 37,
      "outputs": [
        {
          "output_type": "stream",
          "text": [
            "1.13.1\n",
            "Epoch 1/15\n",
            "60000/60000 [==============================] - 9s 145us/sample - loss: 0.2562\n",
            "Epoch 2/15\n",
            "60000/60000 [==============================] - 8s 128us/sample - loss: 0.1129\n",
            "Epoch 3/15\n",
            "60000/60000 [==============================] - 8s 131us/sample - loss: 0.0772\n",
            "Epoch 4/15\n",
            "60000/60000 [==============================] - 8s 130us/sample - loss: 0.0587\n",
            "Epoch 5/15\n",
            "60000/60000 [==============================] - 8s 126us/sample - loss: 0.0453\n",
            "Epoch 6/15\n",
            "60000/60000 [==============================] - 9s 157us/sample - loss: 0.0362\n",
            "Epoch 7/15\n",
            "60000/60000 [==============================] - 10s 161us/sample - loss: 0.0292\n",
            "Epoch 8/15\n",
            "60000/60000 [==============================] - 10s 165us/sample - loss: 0.0234\n",
            "Epoch 9/15\n",
            "60000/60000 [==============================] - 10s 162us/sample - loss: 0.0190\n",
            "Epoch 10/15\n",
            "60000/60000 [==============================] - 8s 138us/sample - loss: 0.0168\n",
            "Epoch 11/15\n",
            "60000/60000 [==============================] - 10s 163us/sample - loss: 0.0143\n",
            "Epoch 12/15\n",
            "60000/60000 [==============================] - 8s 140us/sample - loss: 0.0116\n",
            "Epoch 13/15\n",
            "60000/60000 [==============================] - 9s 157us/sample - loss: 0.0102\n",
            "Epoch 14/15\n",
            "60000/60000 [==============================] - 8s 133us/sample - loss: 0.0094\n",
            "Epoch 15/15\n",
            "60000/60000 [==============================] - 9s 146us/sample - loss: 0.0086\n",
            "10000/10000 [==============================] - 1s 88us/sample - loss: 0.0888\n",
            "[9.8234307e-15 9.9041990e-11 7.0062378e-09 5.5760188e-07 1.0715570e-18\n",
            " 1.0239412e-21 7.6680147e-18 9.9999940e-01 1.3829006e-09 5.6541048e-14]\n",
            "7\n"
          ],
          "name": "stdout"
        }
      ]
    },
    {
      "metadata": {
        "id": "HS3vVkOgCDGZ",
        "colab_type": "text"
      },
      "cell_type": "markdown",
      "source": [
        "#Exercise 7: \n",
        "\n",
        "Before you trained, you normalized the data, going from values that were 0-255 to values that were 0-1. What would be the impact of removing that? Here's the complete code to give it a try. Why do you think you get different results? "
      ]
    },
    {
      "metadata": {
        "id": "JDqNAqrpCNg0",
        "colab_type": "code",
        "colab": {
          "base_uri": "https://localhost:8080/",
          "height": 252
        },
        "outputId": "79fa6542-5571-4840-f9c6-7ed87716a1ed"
      },
      "cell_type": "code",
      "source": [
        "import tensorflow as tf\n",
        "print(tf.__version__)\n",
        "mnist = tf.keras.datasets.mnist\n",
        "(training_images, training_labels), (test_images, test_labels) = mnist.load_data()\n",
        "training_images=training_images\n",
        "test_images=test_images\n",
        "model = tf.keras.models.Sequential([\n",
        "  tf.keras.layers.Flatten(),\n",
        "  tf.keras.layers.Dense(64, activation=tf.nn.relu),\n",
        "  tf.keras.layers.Dense(10, activation=tf.nn.softmax)\n",
        "])\n",
        "model.compile(optimizer='adam', loss='sparse_categorical_crossentropy')\n",
        "model.fit(training_images, training_labels, epochs=5)\n",
        "model.evaluate(test_images, test_labels)\n",
        "classifications = model.predict(test_images)\n",
        "print(classifications[0])\n",
        "print(test_labels[0])"
      ],
      "execution_count": 40,
      "outputs": [
        {
          "output_type": "stream",
          "text": [
            "1.13.1\n",
            "Epoch 1/5\n",
            "60000/60000 [==============================] - 7s 114us/sample - loss: 12.7748\n",
            "Epoch 2/5\n",
            "60000/60000 [==============================] - 6s 96us/sample - loss: 10.7001\n",
            "Epoch 3/5\n",
            "60000/60000 [==============================] - 5s 83us/sample - loss: 10.4387\n",
            "Epoch 4/5\n",
            "60000/60000 [==============================] - 4s 73us/sample - loss: 10.3030\n",
            "Epoch 5/5\n",
            "60000/60000 [==============================] - 4s 73us/sample - loss: 9.5620\n",
            "10000/10000 [==============================] - 1s 88us/sample - loss: 9.3061\n",
            "[0. 0. 0. 0. 0. 0. 0. 1. 0. 0.]\n",
            "7\n"
          ],
          "name": "stdout"
        }
      ]
    },
    {
      "metadata": {
        "id": "E7W2PT66ZBHQ",
        "colab_type": "text"
      },
      "cell_type": "markdown",
      "source": [
        "#Exercise 8: \n",
        "\n",
        "Earlier when you trained for extra epochs you had an issue where your loss might change. It might have taken a bit of time for you to wait for the training to do that, and you might have thought 'wouldn't it be nice if I could stop the training when I reach a desired value?' -- i.e. 95% accuracy might be enough for you, and if you reach that after 3 epochs, why sit around waiting for it to finish a lot more epochs....So how would you fix that? Like any other program...you have callbacks! Let's see them in action..."
      ]
    },
    {
      "metadata": {
        "id": "pkaEHHgqZbYv",
        "colab_type": "code",
        "colab": {
          "base_uri": "https://localhost:8080/",
          "height": 185
        },
        "outputId": "55996863-21e3-4fcb-e816-175b4cec32e5"
      },
      "cell_type": "code",
      "source": [
        "import tensorflow as tf\n",
        "print(tf.__version__)\n",
        "\n",
        "class myCallback(tf.keras.callbacks.Callback):\n",
        "  def on_epoch_end(self, epoch, logs={}):\n",
        "    if(logs.get('loss')<0.4):\n",
        "      print(\"\\nReached 60% accuracy so cancelling training!\")\n",
        "      self.model.stop_training = True\n",
        "\n",
        "callbacks = myCallback()\n",
        "mnist = tf.keras.datasets.fashion_mnist\n",
        "(training_images, training_labels), (test_images, test_labels) = mnist.load_data()\n",
        "training_images=training_images/255.0\n",
        "test_images=test_images/255.0\n",
        "model = tf.keras.models.Sequential([\n",
        "  tf.keras.layers.Flatten(),\n",
        "  tf.keras.layers.Dense(512, activation=tf.nn.relu),\n",
        "  tf.keras.layers.Dense(10, activation=tf.nn.softmax)\n",
        "])\n",
        "model.compile(optimizer='adam', loss='sparse_categorical_crossentropy')\n",
        "model.fit(training_images, training_labels, epochs=5, callbacks=[callbacks])\n",
        "\n",
        "\n",
        "classifications = model.predict(test_images)\n",
        "print(classifications[0])\n",
        "print(test_labels[0])"
      ],
      "execution_count": 43,
      "outputs": [
        {
          "output_type": "stream",
          "text": [
            "1.13.1\n",
            "Epoch 1/5\n",
            "60000/60000 [==============================] - 18s 295us/sample - loss: 0.4766\n",
            "Epoch 2/5\n",
            "59776/60000 [============================>.] - ETA: 0s - loss: 0.3591\n",
            "Reached 60% accuracy so cancelling training!\n",
            "60000/60000 [==============================] - 16s 273us/sample - loss: 0.3592\n",
            "[5.4581604e-05 1.1164599e-06 3.7390753e-06 3.5619553e-06 4.4231701e-06\n",
            " 5.3695697e-02 3.0093306e-05 3.3895165e-02 3.3920656e-05 9.1227770e-01]\n",
            "9\n"
          ],
          "name": "stdout"
        }
      ]
    }
  ]
}